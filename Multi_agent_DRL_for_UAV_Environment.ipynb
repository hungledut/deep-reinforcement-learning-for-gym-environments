{
  "cells": [
    {
      "cell_type": "code",
      "source": [
        "!pip install gymnasium"
      ],
      "metadata": {
        "colab": {
          "base_uri": "https://localhost:8080/"
        },
        "id": "2QCdz9zY_de9",
        "outputId": "b7e22e17-252d-4bfe-fd78-f1372578ff90"
      },
      "id": "2QCdz9zY_de9",
      "execution_count": 1,
      "outputs": [
        {
          "output_type": "stream",
          "name": "stdout",
          "text": [
            "Collecting gymnasium\n",
            "  Downloading gymnasium-1.0.0-py3-none-any.whl.metadata (9.5 kB)\n",
            "Requirement already satisfied: numpy>=1.21.0 in /usr/local/lib/python3.11/dist-packages (from gymnasium) (1.26.4)\n",
            "Requirement already satisfied: cloudpickle>=1.2.0 in /usr/local/lib/python3.11/dist-packages (from gymnasium) (3.1.0)\n",
            "Requirement already satisfied: typing-extensions>=4.3.0 in /usr/local/lib/python3.11/dist-packages (from gymnasium) (4.12.2)\n",
            "Collecting farama-notifications>=0.0.1 (from gymnasium)\n",
            "  Downloading Farama_Notifications-0.0.4-py3-none-any.whl.metadata (558 bytes)\n",
            "Downloading gymnasium-1.0.0-py3-none-any.whl (958 kB)\n",
            "\u001b[2K   \u001b[90m━━━━━━━━━━━━━━━━━━━━━━━━━━━━━━━━━━━━━━━━\u001b[0m \u001b[32m958.1/958.1 kB\u001b[0m \u001b[31m34.8 MB/s\u001b[0m eta \u001b[36m0:00:00\u001b[0m\n",
            "\u001b[?25hDownloading Farama_Notifications-0.0.4-py3-none-any.whl (2.5 kB)\n",
            "Installing collected packages: farama-notifications, gymnasium\n",
            "Successfully installed farama-notifications-0.0.4 gymnasium-1.0.0\n"
          ]
        }
      ]
    },
    {
      "cell_type": "code",
      "execution_count": 2,
      "id": "8a53f94d-34f1-41b8-87b7-cfe7bc60783a",
      "metadata": {
        "id": "8a53f94d-34f1-41b8-87b7-cfe7bc60783a"
      },
      "outputs": [],
      "source": [
        "import gymnasium as gym\n",
        "import numpy as np\n",
        "import random\n",
        "import math\n",
        "import matplotlib.pyplot as plt"
      ]
    },
    {
      "cell_type": "markdown",
      "id": "fd427ca5-4485-40c5-889e-f517c38b25be",
      "metadata": {
        "id": "fd427ca5-4485-40c5-889e-f517c38b25be"
      },
      "source": [
        "### UAV Environment"
      ]
    },
    {
      "cell_type": "code",
      "execution_count": 9,
      "id": "d8939fbc-2d8e-4008-b7d9-ff838801dff3",
      "metadata": {
        "id": "d8939fbc-2d8e-4008-b7d9-ff838801dff3"
      },
      "outputs": [],
      "source": [
        "class UAV_Environment(gym.Env):\n",
        "\n",
        "    def __init__(self, users = 250, uavs = 3,\n",
        "                 size = 2000, # Target area: size x size\n",
        "                v_0 = 5, # (m/s)\n",
        "                tau = 5, # (ms)\n",
        "                ###################### Channel model of UAVS\n",
        "                psi_L = 1,\n",
        "                psi_M = 1,\n",
        "                K = 50,\n",
        "                d = 1, # (m)\n",
        "                lambda_c = 0.05, # (m) = v/f = 3x10^8 (m/s)/ 5.8x10^9 (Hz) ?\n",
        "                h = 120, # (m)\n",
        "                alpha = 2.7,\n",
        "                P_UAV = 1, # 30 (dBm) -> W\n",
        "                sigma_square = -1e12,  # -90 (dBm) -> W\n",
        "                ###################### Channel model of mBS\n",
        "                P_mBS = 46, # 76 (dBm) -> dB\n",
        "                D_hb = 100, # (m) ?\n",
        "                f_c = 2, # GHz ?\n",
        "                sigma_logF = 2, # mean of logF ?\n",
        "                ###################### Bandwidth\n",
        "                W = 20e6, # Hz\n",
        "                ###################### Data Rate Threshold\n",
        "                r_th = 20e6, # bps\n",
        "                ):\n",
        "\n",
        "\n",
        "        self.users = users\n",
        "        self.uavs = uavs\n",
        "        self.size = size\n",
        "        self.v_0 = v_0\n",
        "        self.tau = tau\n",
        "\n",
        "        self.psi_L = psi_L\n",
        "        self.psi_M = psi_M\n",
        "        self.K = K\n",
        "        self.d = d\n",
        "        self.lambda_c = lambda_c\n",
        "        self.h = h\n",
        "        self.alpha = alpha\n",
        "        self.P_UAV = P_UAV\n",
        "        self.sigma_square = sigma_square\n",
        "        self.P_mBS = P_mBS\n",
        "        self.D_hb = D_hb\n",
        "        self.f_c = f_c\n",
        "        self.sigma_logF = sigma_logF\n",
        "        self.W = W\n",
        "        self.r_th = r_th\n",
        "\n",
        "        self.connect = np.zeros((self.uavs+1, self.users))\n",
        "        self.unsatisfied_users = np.zeros(self.users)\n",
        "        self.data_rate_max_index = np.zeros(self.users)\n",
        "\n",
        "        # Define the agent and target location; randomly chosen in `reset` and updated in `step`\n",
        "        self.uavs_location = np.zeros((2, self.uavs)) + self.size/2\n",
        "        self.users_location = np.random.uniform(-self.size/2, self.size/2, (2, self.users))\n",
        "        self.mBS = np.zeros((2,1)) + self.size/2\n",
        "\n",
        "        # Each location is encoded as an element of {0, ..., `size`-1}^2\n",
        "        # self.observation_space = gym.spaces.Dict(\n",
        "        #     {\n",
        "        #         \"agent\": gym.spaces.Box(-size/2, size/2, shape=(2,uavs), dtype=float),\n",
        "        #     }\n",
        "        # )\n",
        "\n",
        "        self.observation_space = gym.spaces.Box(-self.size/2, self.size/2, shape=(2,uavs), dtype=float),\n",
        "\n",
        "\n",
        "        # We have 5 actions, corresponding to \"right\", \"up\", \"left\", \"down\", \"remain stationary\"\n",
        "        self.action_space = gym.spaces.Discrete(5)\n",
        "        # Dictionary maps the abstract actions to the directions\n",
        "        self._action_to_direction = {\n",
        "            0: np.array([self.v_0*self.tau, 0]),  # right\n",
        "            1: np.array([0,self.v_0*self.tau]),  # up\n",
        "            2: np.array([-self.v_0*self.tau, 0]),  # left\n",
        "            3: np.array([0, -self.v_0*self.tau]),  # down\n",
        "            4: np.array([0, 0]),  # remain stationary\n",
        "        }\n",
        "    def step(self, actions):\n",
        "\n",
        "        ## UAVs take the actions\n",
        "        for action,k in zip(actions,range(self.uavs)):\n",
        "            tem = self.uavs_location[:,k] + self._action_to_direction[action]\n",
        "            if (-self.size/2 > tem[0] or tem[0] > self.size/2) or (-self.size/2 > tem[1] or tem[1] > self.size/2): # restrict the UAVs' coordinates\n",
        "                continue\n",
        "            self.uavs_location[:,k] = tem\n",
        "\n",
        "        ## Distance\n",
        "        d_UAV = np.zeros((self.uavs,self.users))\n",
        "        for n in range(self.users):\n",
        "            for k in range(self.uavs):\n",
        "                d_UAV[k,n] = np.linalg.norm(self.users_location[:,n] - self.uavs_location[:,k], ord = 2)\n",
        "\n",
        "        d_mBS = np.zeros((1,self.users))\n",
        "        for n in range(self.users):\n",
        "            d_mBS[0,n] = np.linalg.norm(self.users_location[:,n] - self.mBS[:,0], ord = 2)\n",
        "\n",
        "        ## Signal-to-noise ratio(SNR)\n",
        "        gamma_UAV = np.zeros((self.uavs,self.users))\n",
        "        for n in range(self.users):\n",
        "            for k in range(self.uavs):\n",
        "                psi_UAV = math.sqrt(self.K/(1+self.K))*self.psi_L + math.sqrt(1/(1+self.K))*self.psi_M\n",
        "                theta = -20*math.log10(4*3.14*self.d/self.lambda_c) # (dB)\n",
        "                theta = 10**(theta/10)\n",
        "                g_UAV = (abs(psi_UAV)**2)*theta*(math.sqrt((d_UAV[k,n])**2 + (self.h)**2)/self.d)**(-self.alpha)\n",
        "                gamma_UAV[k,n] = self.P_UAV*g_UAV/self.sigma_square\n",
        "\n",
        "        # print(gamma_UAV)\n",
        "\n",
        "        gamma_mBS = np.zeros((1,self.users))\n",
        "        for n in range(self.users):\n",
        "            # LogF = random.gauss(0, self.sigma_logF)\n",
        "            L_mBS = 40*(1-0.004*self.D_hb)*math.log10(d_mBS[0,n]/1000) - 18*math.log10(self.D_hb) + 21*math.log10(self.f_c) + 80 # d_mBS (km) ; D_hb (m); fc (MHz)\n",
        "            gamma_mBS[0,n] = self.P_mBS - L_mBS #- LogF  # dB\n",
        "\n",
        "        ## Data rate\n",
        "        rate_UAV = np.zeros((self.uavs,self.users))\n",
        "        for n in range(self.users):\n",
        "            for k in range(self.uavs):\n",
        "                # gamma_UAV[k,n] = 10**(gamma_UAV[k,n]/10)\n",
        "                rate_UAV[k,n] = self.W*math.log2(1 + gamma_UAV[k,n])\n",
        "        # print(gamma_UAV)\n",
        "\n",
        "        rate_mBS = np.zeros((1,self.users))\n",
        "        for n in range(self.users):\n",
        "            gamma_mBS[0,n] = 10**(gamma_mBS[0,n]/10)\n",
        "            rate_mBS[0,n] = self.W*math.log2(1 + gamma_mBS[0,n])\n",
        "\n",
        "\n",
        "        ##### self.connect =\n",
        "        #####    [ ------------ UAV1 -----------]\n",
        "        #####    [ ------------ UAV2 -----------]\n",
        "        #####    [ ------------ UAV3 -----------]\n",
        "        #####    [ ------------ mBS  -----------]\n",
        "\n",
        "        # print('UAV data rate: ', rate_UAV,'\\n mBS data rate: ' ,rate_mBS)\n",
        "        rate_UAV_mBS = np.concatenate((rate_UAV, rate_mBS), axis=0) # Shape(4,250) -> 3 UAVs + 1 mBS ; 250 Users\n",
        "        self.data_rate_max_index = np.argmax(rate_UAV_mBS, axis=0) # UAV0 = 0, UAV1 = 1, UAV2 = 2, mBS = 3\n",
        "        for index,user in zip(self.data_rate_max_index,range(self.users)):\n",
        "            self.connect[index,user] = 1\n",
        "\n",
        "        data_rate = np.multiply(rate_UAV_mBS,self.connect)\n",
        "        data_rate = np.sum(data_rate,axis=0)\n",
        "\n",
        "        for i in range(data_rate.shape[0]):\n",
        "            if data_rate[i] < self.r_th:\n",
        "                self.unsatisfied_users[i] = 0 # -> unsatisfied user\n",
        "            else:\n",
        "                self.unsatisfied_users[i] = 1 # -> satisfied user\n",
        "\n",
        "        # S (sum of satisfied users)\n",
        "        S = np.sum(self.unsatisfied_users)\n",
        "\n",
        "        N_UAVs = np.sum(self.connect, axis=1)\n",
        "        N_UAV0 = N_UAVs[0]\n",
        "        # print('N_UAV0=',N_UAV0)\n",
        "        N_UAV1 = N_UAVs[1]\n",
        "        # print('N_UAV1=',N_UAV1)\n",
        "        N_UAV2 = N_UAVs[2]\n",
        "        # print('N_UAV2=',N_UAV2)\n",
        "\n",
        "        O_UAV0 = np.concatenate((self.uavs_location[:,0], self.mBS[:,0],self.uavs_location[:,1],self.uavs_location[:,2],self.connect[0,:]*100,self.unsatisfied_users*100))\n",
        "        # print('O_UAV0=',O_UAV0.shape)\n",
        "        O_UAV1 = np.concatenate((self.uavs_location[:,1], self.mBS[:,0],self.uavs_location[:,0],self.uavs_location[:,2],self.connect[1,:]*100,self.unsatisfied_users*100))\n",
        "        # print('O_UAV1=',O_UAV1.shape)\n",
        "        O_UAV2 = np.concatenate((self.uavs_location[:,2], self.mBS[:,0],self.uavs_location[:,0],self.uavs_location[:,1],self.connect[2,:]*100,self.unsatisfied_users*100))\n",
        "        # print('O_UAV2=',O_UAV2.shape)\n",
        "\n",
        "\n",
        "        return O_UAV0, O_UAV1, O_UAV2, S, N_UAV0, N_UAV1, N_UAV2\n",
        "\n",
        "    def plot(self):\n",
        "        # plt.scatter(self.users_location[0,:],self.users_location[1,:], marker = 'o', color = 'c')\n",
        "        plt.scatter(self.uavs_location[0,0],self.uavs_location[1,0], label = 'UAV0', marker = ',', color = 'r')\n",
        "        plt.scatter(self.uavs_location[0,1],self.uavs_location[1,1], label = 'UAV1', marker = ',', color = 'g')\n",
        "        plt.scatter(self.uavs_location[0,2],self.uavs_location[1,2], label = 'UAV2', marker = ',', color = 'b')\n",
        "        plt.scatter(self.mBS[0],self.mBS[1], label = 'mBS', marker = ',', color = 'm')\n",
        "        # print(self.unsatisfied_users)\n",
        "        for i in range(self.unsatisfied_users.shape[0]):\n",
        "            # UAV0\n",
        "            if self.data_rate_max_index[i] == 0 and self.unsatisfied_users[i] == 0:\n",
        "                plt.scatter(self.users_location[0,i],self.users_location[1,i], marker = '^', color = 'r')\n",
        "            elif self.data_rate_max_index[i] == 0 and self.unsatisfied_users[i] == 1:\n",
        "                plt.scatter(self.users_location[0,i],self.users_location[1,i], marker = 'o', color = 'r')\n",
        "\n",
        "            # UAV1\n",
        "            if self.data_rate_max_index[i] == 1 and self.unsatisfied_users[i] == 0:\n",
        "                plt.scatter(self.users_location[0,i],self.users_location[1,i], marker = '^', color = 'g')\n",
        "            elif self.data_rate_max_index[i] == 1 and self.unsatisfied_users[i] == 1:\n",
        "                plt.scatter(self.users_location[0,i],self.users_location[1,i], marker = 'o', color = 'g')\n",
        "\n",
        "            # UAV2\n",
        "            if self.data_rate_max_index[i] == 2 and self.unsatisfied_users[i] == 0:\n",
        "                plt.scatter(self.users_location[0,i],self.users_location[1,i], marker = '^', color = 'b')\n",
        "            elif self.data_rate_max_index[i] == 2 and self.unsatisfied_users[i] == 1:\n",
        "                plt.scatter(self.users_location[0,i],self.users_location[1,i], marker = 'o', color = 'b')\n",
        "\n",
        "            # mBS\n",
        "            if self.data_rate_max_index[i] == 3 and self.unsatisfied_users[i] == 0:\n",
        "                plt.scatter(self.users_location[0,i],self.users_location[1,i], marker = '^', color = 'm')\n",
        "            elif self.data_rate_max_index[i] == 3 and self.unsatisfied_users[i] == 1:\n",
        "                plt.scatter(self.users_location[0,i],self.users_location[1,i], marker = 'o', color = 'm')\n",
        "\n",
        "        plt.xlabel('x(m)')\n",
        "        plt.ylabel('y(m)')\n",
        "        plt.title('UAV Environment')\n",
        "        plt.legend()\n",
        "        plt.show()\n",
        "\n",
        "    def reset(self):\n",
        "        self.uavs_location = np.zeros((2, self.uavs)) + self.size/2\n",
        "        self.connect = np.zeros((self.uavs+1, self.users))\n",
        "        self.unsatisfied_users = np.zeros(self.users)\n",
        "        O_UAV0 = np.concatenate((self.uavs_location[:,0], self.mBS[:,0],self.uavs_location[:,1],self.uavs_location[:,2],self.connect[0,:],self.unsatisfied_users))\n",
        "        # print('O_UAV0=',O_UAV0.shape)\n",
        "        O_UAV1 = np.concatenate((self.uavs_location[:,1], self.mBS[:,0],self.uavs_location[:,0],self.uavs_location[:,2],self.connect[1,:],self.unsatisfied_users))\n",
        "        # print('O_UAV1=',O_UAV1.shape)\n",
        "        O_UAV2 = np.concatenate((self.uavs_location[:,2], self.mBS[:,0],self.uavs_location[:,0],self.uavs_location[:,1],self.connect[2,:],self.unsatisfied_users))\n",
        "        # print('O_UAV2=',O_UAV2.shape)\n",
        "\n",
        "        return O_UAV0, O_UAV1, O_UAV2\n",
        ""
      ]
    },
    {
      "cell_type": "code",
      "execution_count": 10,
      "id": "37f02352-90fb-4d2f-8ecc-53af1edfecf8",
      "metadata": {
        "id": "37f02352-90fb-4d2f-8ecc-53af1edfecf8"
      },
      "outputs": [],
      "source": [
        "env = UAV_Environment()"
      ]
    },
    {
      "cell_type": "code",
      "execution_count": 11,
      "id": "7bd8d5c0-7d87-4045-a975-e889e1aefe40",
      "metadata": {
        "colab": {
          "base_uri": "https://localhost:8080/",
          "height": 472
        },
        "id": "7bd8d5c0-7d87-4045-a975-e889e1aefe40",
        "outputId": "51a2e000-168e-4b4a-be84-f760abe569e2"
      },
      "outputs": [
        {
          "output_type": "display_data",
          "data": {
            "text/plain": [
              "<Figure size 640x480 with 1 Axes>"
            ],
            "image/png": "[encoded data removed]"
          },
          "metadata": {}
        }
      ],
      "source": [
        "env.plot()"
      ]
    },
    {
      "cell_type": "code",
      "execution_count": 12,
      "id": "2c4b2ffd-6a0c-4872-8886-557152e299a0",
      "metadata": {
        "id": "2c4b2ffd-6a0c-4872-8886-557152e299a0"
      },
      "outputs": [],
      "source": [
        "state = env.reset()\n",
        "for _ in range(100):\n",
        "    actions = []\n",
        "    for i in range(4):\n",
        "        actions.append(env.action_space.sample())\n",
        "    O_UAV0, O_UAV1, O_UAV2, S, N_UAV0, N_UAV1, N_UAV2 = env.step(actions)"
      ]
    },
    {
      "cell_type": "code",
      "execution_count": 13,
      "id": "4ef45a77-f2ea-418c-bdc2-27c3811e98ad",
      "metadata": {
        "colab": {
          "base_uri": "https://localhost:8080/",
          "height": 472
        },
        "id": "4ef45a77-f2ea-418c-bdc2-27c3811e98ad",
        "outputId": "c2baf5c4-3472-4f43-d45f-ed937bc0b585"
      },
      "outputs": [
        {
          "output_type": "display_data",
          "data": {
            "text/plain": [
              "<Figure size 640x480 with 1 Axes>"
            ],
            "image/png": "[encoded data removed]"
          },
          "metadata": {}
        }
      ],
      "source": [
        "env.plot()"
      ]
    },
    {
      "cell_type": "markdown",
      "id": "a9ebc441-af6a-4b6e-bc4a-264e4685b2ab",
      "metadata": {
        "id": "a9ebc441-af6a-4b6e-bc4a-264e4685b2ab"
      },
      "source": [
        "### Multi-agent Deep Reinforcement Learning"
      ]
    },
    {
      "cell_type": "code",
      "execution_count": 8,
      "id": "cc6a00ad-78e7-466c-a90a-b0774f663e32",
      "metadata": {
        "colab": {
          "base_uri": "https://localhost:8080/",
          "height": 371
        },
        "id": "cc6a00ad-78e7-466c-a90a-b0774f663e32",
        "outputId": "ee87e469-f51f-4d89-a8ac-5a8373548584"
      },
      "outputs": [
        {
          "output_type": "error",
          "ename": "KeyboardInterrupt",
          "evalue": "",
          "traceback": [
            "\u001b[0;31m---------------------------------------------------------------------------\u001b[0m",
            "\u001b[0;31mKeyboardInterrupt\u001b[0m                         Traceback (most recent call last)",
            "\u001b[0;32m<ipython-input-8-89a567e18a12>\u001b[0m in \u001b[0;36m<cell line: 0>\u001b[0;34m()\u001b[0m\n\u001b[0;32m----> 1\u001b[0;31m \u001b[0;32mimport\u001b[0m \u001b[0mtorch\u001b[0m\u001b[0;34m\u001b[0m\u001b[0;34m\u001b[0m\u001b[0m\n\u001b[0m\u001b[1;32m      2\u001b[0m \u001b[0;32mimport\u001b[0m \u001b[0mtorch\u001b[0m\u001b[0;34m.\u001b[0m\u001b[0mnn\u001b[0m \u001b[0;32mas\u001b[0m \u001b[0mnn\u001b[0m\u001b[0;34m\u001b[0m\u001b[0;34m\u001b[0m\u001b[0m\n\u001b[1;32m      3\u001b[0m \u001b[0;32mimport\u001b[0m \u001b[0mtorch\u001b[0m\u001b[0;34m.\u001b[0m\u001b[0mnn\u001b[0m\u001b[0;34m.\u001b[0m\u001b[0mfunctional\u001b[0m \u001b[0;32mas\u001b[0m \u001b[0mF\u001b[0m\u001b[0;34m\u001b[0m\u001b[0;34m\u001b[0m\u001b[0m\n\u001b[1;32m      4\u001b[0m \u001b[0;32mimport\u001b[0m \u001b[0mtorch\u001b[0m\u001b[0;34m.\u001b[0m\u001b[0moptim\u001b[0m \u001b[0;32mas\u001b[0m \u001b[0moptim\u001b[0m\u001b[0;34m\u001b[0m\u001b[0;34m\u001b[0m\u001b[0m\n\u001b[1;32m      5\u001b[0m \u001b[0;32mfrom\u001b[0m \u001b[0mtorch\u001b[0m\u001b[0;34m.\u001b[0m\u001b[0mdistributions\u001b[0m \u001b[0;32mimport\u001b[0m \u001b[0mCategorical\u001b[0m\u001b[0;34m\u001b[0m\u001b[0;34m\u001b[0m\u001b[0m\n",
            "\u001b[0;32m/usr/local/lib/python3.11/dist-packages/torch/__init__.py\u001b[0m in \u001b[0;36m<module>\u001b[0;34m\u001b[0m\n\u001b[1;32m   2484\u001b[0m \u001b[0;34m\u001b[0m\u001b[0m\n\u001b[1;32m   2485\u001b[0m \u001b[0;32mif\u001b[0m \u001b[0;32mnot\u001b[0m \u001b[0mTYPE_CHECKING\u001b[0m\u001b[0;34m:\u001b[0m\u001b[0;34m\u001b[0m\u001b[0;34m\u001b[0m\u001b[0m\n\u001b[0;32m-> 2486\u001b[0;31m     \u001b[0;32mfrom\u001b[0m \u001b[0mtorch\u001b[0m \u001b[0;32mimport\u001b[0m \u001b[0m_meta_registrations\u001b[0m\u001b[0;34m\u001b[0m\u001b[0;34m\u001b[0m\u001b[0m\n\u001b[0m\u001b[1;32m   2487\u001b[0m \u001b[0;34m\u001b[0m\u001b[0m\n\u001b[1;32m   2488\u001b[0m \u001b[0;31m# Enable CUDA Sanitizer\u001b[0m\u001b[0;34m\u001b[0m\u001b[0;34m\u001b[0m\u001b[0m\n",
            "\u001b[0;32m/usr/local/lib/python3.11/dist-packages/torch/_meta_registrations.py\u001b[0m in \u001b[0;36m<module>\u001b[0;34m\u001b[0m\n\u001b[1;32m      8\u001b[0m \u001b[0;32mimport\u001b[0m \u001b[0mtorch\u001b[0m\u001b[0;34m.\u001b[0m\u001b[0m_prims_common\u001b[0m \u001b[0;32mas\u001b[0m \u001b[0mutils\u001b[0m\u001b[0;34m\u001b[0m\u001b[0;34m\u001b[0m\u001b[0m\n\u001b[1;32m      9\u001b[0m \u001b[0;32mfrom\u001b[0m \u001b[0mtorch\u001b[0m \u001b[0;32mimport\u001b[0m \u001b[0mSymBool\u001b[0m\u001b[0;34m,\u001b[0m \u001b[0mSymFloat\u001b[0m\u001b[0;34m,\u001b[0m \u001b[0mTensor\u001b[0m\u001b[0;34m\u001b[0m\u001b[0;34m\u001b[0m\u001b[0m\n\u001b[0;32m---> 10\u001b[0;31m from torch._decomp import (\n\u001b[0m\u001b[1;32m     11\u001b[0m     \u001b[0m_add_op_to_registry\u001b[0m\u001b[0;34m,\u001b[0m\u001b[0;34m\u001b[0m\u001b[0;34m\u001b[0m\u001b[0m\n\u001b[1;32m     12\u001b[0m     \u001b[0m_convert_out_params\u001b[0m\u001b[0;34m,\u001b[0m\u001b[0;34m\u001b[0m\u001b[0;34m\u001b[0m\u001b[0m\n",
            "\u001b[0;32m/usr/local/lib/python3.11/dist-packages/torch/_decomp/__init__.py\u001b[0m in \u001b[0;36m<module>\u001b[0;34m\u001b[0m\n\u001b[1;32m    247\u001b[0m \u001b[0;34m\u001b[0m\u001b[0m\n\u001b[1;32m    248\u001b[0m \u001b[0;31m# populate the table\u001b[0m\u001b[0;34m\u001b[0m\u001b[0;34m\u001b[0m\u001b[0m\n\u001b[0;32m--> 249\u001b[0;31m \u001b[0;32mimport\u001b[0m \u001b[0mtorch\u001b[0m\u001b[0;34m.\u001b[0m\u001b[0m_decomp\u001b[0m\u001b[0;34m.\u001b[0m\u001b[0mdecompositions\u001b[0m\u001b[0;34m\u001b[0m\u001b[0;34m\u001b[0m\u001b[0m\n\u001b[0m\u001b[1;32m    250\u001b[0m \u001b[0;32mimport\u001b[0m \u001b[0mtorch\u001b[0m\u001b[0;34m.\u001b[0m\u001b[0m_refs\u001b[0m\u001b[0;34m\u001b[0m\u001b[0;34m\u001b[0m\u001b[0m\n\u001b[1;32m    251\u001b[0m \u001b[0;34m\u001b[0m\u001b[0m\n",
            "\u001b[0;32m/usr/local/lib/python3.11/dist-packages/torch/_decomp/decompositions.py\u001b[0m in \u001b[0;36m<module>\u001b[0;34m\u001b[0m\n\u001b[1;32m     13\u001b[0m \u001b[0;32mimport\u001b[0m \u001b[0mtorch\u001b[0m\u001b[0;34m\u001b[0m\u001b[0;34m\u001b[0m\u001b[0m\n\u001b[1;32m     14\u001b[0m \u001b[0;32mimport\u001b[0m \u001b[0mtorch\u001b[0m\u001b[0;34m.\u001b[0m\u001b[0m_meta_registrations\u001b[0m\u001b[0;34m\u001b[0m\u001b[0;34m\u001b[0m\u001b[0m\n\u001b[0;32m---> 15\u001b[0;31m \u001b[0;32mimport\u001b[0m \u001b[0mtorch\u001b[0m\u001b[0;34m.\u001b[0m\u001b[0m_prims\u001b[0m \u001b[0;32mas\u001b[0m \u001b[0mprims\u001b[0m\u001b[0;34m\u001b[0m\u001b[0;34m\u001b[0m\u001b[0m\n\u001b[0m\u001b[1;32m     16\u001b[0m \u001b[0;32mimport\u001b[0m \u001b[0mtorch\u001b[0m\u001b[0;34m.\u001b[0m\u001b[0m_prims_common\u001b[0m \u001b[0;32mas\u001b[0m \u001b[0mutils\u001b[0m\u001b[0;34m\u001b[0m\u001b[0;34m\u001b[0m\u001b[0m\n\u001b[1;32m     17\u001b[0m \u001b[0;32mimport\u001b[0m \u001b[0mtorch\u001b[0m\u001b[0;34m.\u001b[0m\u001b[0mnn\u001b[0m\u001b[0;34m.\u001b[0m\u001b[0mfunctional\u001b[0m \u001b[0;32mas\u001b[0m \u001b[0mF\u001b[0m\u001b[0;34m\u001b[0m\u001b[0;34m\u001b[0m\u001b[0m\n",
            "\u001b[0;32m/usr/local/lib/python3.11/dist-packages/torch/_prims/__init__.py\u001b[0m in \u001b[0;36m<module>\u001b[0;34m\u001b[0m\n\u001b[1;32m    823\u001b[0m )\n\u001b[1;32m    824\u001b[0m \u001b[0;34m\u001b[0m\u001b[0m\n\u001b[0;32m--> 825\u001b[0;31m log1p = _make_elementwise_unary_prim(\n\u001b[0m\u001b[1;32m    826\u001b[0m     \u001b[0;34m\"log1p\"\u001b[0m\u001b[0;34m,\u001b[0m\u001b[0;34m\u001b[0m\u001b[0;34m\u001b[0m\u001b[0m\n\u001b[1;32m    827\u001b[0m     \u001b[0mimpl_aten\u001b[0m\u001b[0;34m=\u001b[0m\u001b[0mtorch\u001b[0m\u001b[0;34m.\u001b[0m\u001b[0mlog1p\u001b[0m\u001b[0;34m,\u001b[0m\u001b[0;34m\u001b[0m\u001b[0;34m\u001b[0m\u001b[0m\n",
            "\u001b[0;32m/usr/local/lib/python3.11/dist-packages/torch/_prims/__init__.py\u001b[0m in \u001b[0;36m_make_elementwise_unary_prim\u001b[0;34m(name, type_promotion, **kwargs)\u001b[0m\n\u001b[1;32m    489\u001b[0m     \"\"\"\n\u001b[1;32m    490\u001b[0m \u001b[0;34m\u001b[0m\u001b[0m\n\u001b[0;32m--> 491\u001b[0;31m     return _make_prim(\n\u001b[0m\u001b[1;32m    492\u001b[0m         \u001b[0mschema\u001b[0m\u001b[0;34m=\u001b[0m\u001b[0;34mf\"{name}(Tensor self) -> Tensor\"\u001b[0m\u001b[0;34m,\u001b[0m\u001b[0;34m\u001b[0m\u001b[0;34m\u001b[0m\u001b[0m\n\u001b[1;32m    493\u001b[0m         \u001b[0mmeta\u001b[0m\u001b[0;34m=\u001b[0m\u001b[0mpartial\u001b[0m\u001b[0;34m(\u001b[0m\u001b[0m_prim_elementwise_meta\u001b[0m\u001b[0;34m,\u001b[0m \u001b[0mtype_promotion\u001b[0m\u001b[0;34m=\u001b[0m\u001b[0mtype_promotion\u001b[0m\u001b[0;34m)\u001b[0m\u001b[0;34m,\u001b[0m\u001b[0;34m\u001b[0m\u001b[0;34m\u001b[0m\u001b[0m\n",
            "\u001b[0;32m/usr/local/lib/python3.11/dist-packages/torch/_prims/__init__.py\u001b[0m in \u001b[0;36m_make_prim\u001b[0;34m(schema, return_type, meta, impl_aten, doc, tags, use_old_custom_ops_api, register_conj_neg_fallthrough)\u001b[0m\n\u001b[1;32m    317\u001b[0m             \u001b[0;32mif\u001b[0m \u001b[0marg\u001b[0m\u001b[0;34m.\u001b[0m\u001b[0malias_info\u001b[0m \u001b[0;32mis\u001b[0m \u001b[0;32mnot\u001b[0m \u001b[0;32mNone\u001b[0m \u001b[0;32mand\u001b[0m \u001b[0marg\u001b[0m\u001b[0;34m.\u001b[0m\u001b[0malias_info\u001b[0m\u001b[0;34m.\u001b[0m\u001b[0mis_write\u001b[0m\u001b[0;34m:\u001b[0m\u001b[0;34m\u001b[0m\u001b[0;34m\u001b[0m\u001b[0m\n\u001b[1;32m    318\u001b[0m                 \u001b[0mmutates_args\u001b[0m\u001b[0;34m.\u001b[0m\u001b[0mappend\u001b[0m\u001b[0;34m(\u001b[0m\u001b[0marg\u001b[0m\u001b[0;34m.\u001b[0m\u001b[0mname\u001b[0m\u001b[0;34m)\u001b[0m\u001b[0;34m\u001b[0m\u001b[0;34m\u001b[0m\u001b[0m\n\u001b[0;32m--> 319\u001b[0;31m         prim_def = torch.library.custom_op(\n\u001b[0m\u001b[1;32m    320\u001b[0m             \u001b[0;34m\"prims::\"\u001b[0m \u001b[0;34m+\u001b[0m \u001b[0mname\u001b[0m\u001b[0;34m,\u001b[0m\u001b[0;34m\u001b[0m\u001b[0;34m\u001b[0m\u001b[0m\n\u001b[1;32m    321\u001b[0m             \u001b[0m_prim_impl\u001b[0m\u001b[0;34m,\u001b[0m\u001b[0;34m\u001b[0m\u001b[0;34m\u001b[0m\u001b[0m\n",
            "\u001b[0;32m/usr/local/lib/python3.11/dist-packages/torch/_library/custom_ops.py\u001b[0m in \u001b[0;36mcustom_op\u001b[0;34m(name, fn, mutates_args, device_types, schema)\u001b[0m\n\u001b[1;32m    155\u001b[0m     \u001b[0;32mif\u001b[0m \u001b[0mfn\u001b[0m \u001b[0;32mis\u001b[0m \u001b[0;32mNone\u001b[0m\u001b[0;34m:\u001b[0m\u001b[0;34m\u001b[0m\u001b[0;34m\u001b[0m\u001b[0m\n\u001b[1;32m    156\u001b[0m         \u001b[0;32mreturn\u001b[0m \u001b[0minner\u001b[0m\u001b[0;34m\u001b[0m\u001b[0;34m\u001b[0m\u001b[0m\n\u001b[0;32m--> 157\u001b[0;31m     \u001b[0;32mreturn\u001b[0m \u001b[0minner\u001b[0m\u001b[0;34m(\u001b[0m\u001b[0mfn\u001b[0m\u001b[0;34m)\u001b[0m\u001b[0;34m\u001b[0m\u001b[0;34m\u001b[0m\u001b[0m\n\u001b[0m\u001b[1;32m    158\u001b[0m \u001b[0;34m\u001b[0m\u001b[0m\n\u001b[1;32m    159\u001b[0m \u001b[0;34m\u001b[0m\u001b[0m\n",
            "\u001b[0;32m/usr/local/lib/python3.11/dist-packages/torch/_library/custom_ops.py\u001b[0m in \u001b[0;36minner\u001b[0;34m(fn)\u001b[0m\n\u001b[1;32m    136\u001b[0m \u001b[0;34m\u001b[0m\u001b[0m\n\u001b[1;32m    137\u001b[0m         \u001b[0mnamespace\u001b[0m\u001b[0;34m,\u001b[0m \u001b[0mopname\u001b[0m \u001b[0;34m=\u001b[0m \u001b[0mname\u001b[0m\u001b[0;34m.\u001b[0m\u001b[0msplit\u001b[0m\u001b[0;34m(\u001b[0m\u001b[0;34m\"::\"\u001b[0m\u001b[0;34m)\u001b[0m\u001b[0;34m\u001b[0m\u001b[0;34m\u001b[0m\u001b[0m\n\u001b[0;32m--> 138\u001b[0;31m         \u001b[0mresult\u001b[0m \u001b[0;34m=\u001b[0m \u001b[0mCustomOpDef\u001b[0m\u001b[0;34m(\u001b[0m\u001b[0mnamespace\u001b[0m\u001b[0;34m,\u001b[0m \u001b[0mopname\u001b[0m\u001b[0;34m,\u001b[0m \u001b[0mschema_str\u001b[0m\u001b[0;34m,\u001b[0m \u001b[0mfn\u001b[0m\u001b[0;34m)\u001b[0m\u001b[0;34m\u001b[0m\u001b[0;34m\u001b[0m\u001b[0m\n\u001b[0m\u001b[1;32m    139\u001b[0m         \u001b[0;32mif\u001b[0m \u001b[0mschema\u001b[0m \u001b[0;32mis\u001b[0m \u001b[0;32mnot\u001b[0m \u001b[0;32mNone\u001b[0m\u001b[0;34m:\u001b[0m\u001b[0;34m\u001b[0m\u001b[0;34m\u001b[0m\u001b[0m\n\u001b[1;32m    140\u001b[0m             \u001b[0;31m# Check that schema's alias annotations match those of `mutates_args`.\u001b[0m\u001b[0;34m\u001b[0m\u001b[0;34m\u001b[0m\u001b[0m\n",
            "\u001b[0;32m/usr/local/lib/python3.11/dist-packages/torch/_library/custom_ops.py\u001b[0m in \u001b[0;36m__init__\u001b[0;34m(self, namespace, name, schema, fn)\u001b[0m\n\u001b[1;32m    183\u001b[0m         \u001b[0mself\u001b[0m\u001b[0;34m.\u001b[0m\u001b[0m_vmap_fn\u001b[0m\u001b[0;34m:\u001b[0m \u001b[0mOptional\u001b[0m\u001b[0;34m[\u001b[0m\u001b[0mCallable\u001b[0m\u001b[0;34m]\u001b[0m \u001b[0;34m=\u001b[0m \u001b[0;32mNone\u001b[0m\u001b[0;34m\u001b[0m\u001b[0;34m\u001b[0m\u001b[0m\n\u001b[1;32m    184\u001b[0m \u001b[0;34m\u001b[0m\u001b[0m\n\u001b[0;32m--> 185\u001b[0;31m         \u001b[0mself\u001b[0m\u001b[0;34m.\u001b[0m\u001b[0m_lib\u001b[0m \u001b[0;34m=\u001b[0m \u001b[0mget_library_allowing_overwrite\u001b[0m\u001b[0;34m(\u001b[0m\u001b[0mself\u001b[0m\u001b[0;34m.\u001b[0m\u001b[0m_namespace\u001b[0m\u001b[0;34m,\u001b[0m \u001b[0mself\u001b[0m\u001b[0;34m.\u001b[0m\u001b[0m_name\u001b[0m\u001b[0;34m)\u001b[0m\u001b[0;34m\u001b[0m\u001b[0;34m\u001b[0m\u001b[0m\n\u001b[0m\u001b[1;32m    186\u001b[0m         \u001b[0mself\u001b[0m\u001b[0;34m.\u001b[0m\u001b[0m_register_to_dispatcher\u001b[0m\u001b[0;34m(\u001b[0m\u001b[0;34m)\u001b[0m\u001b[0;34m\u001b[0m\u001b[0;34m\u001b[0m\u001b[0m\n\u001b[1;32m    187\u001b[0m         \u001b[0mself\u001b[0m\u001b[0;34m.\u001b[0m\u001b[0m_disabled_kernel\u001b[0m\u001b[0;34m:\u001b[0m \u001b[0mSet\u001b[0m \u001b[0;34m=\u001b[0m \u001b[0mset\u001b[0m\u001b[0;34m(\u001b[0m\u001b[0;34m)\u001b[0m\u001b[0;34m\u001b[0m\u001b[0;34m\u001b[0m\u001b[0m\n",
            "\u001b[0;32m/usr/local/lib/python3.11/dist-packages/torch/_library/custom_ops.py\u001b[0m in \u001b[0;36mget_library_allowing_overwrite\u001b[0;34m(namespace, name)\u001b[0m\n\u001b[1;32m    803\u001b[0m         \u001b[0;32mdel\u001b[0m \u001b[0mOPDEF_TO_LIB\u001b[0m\u001b[0;34m[\u001b[0m\u001b[0mqualname\u001b[0m\u001b[0;34m]\u001b[0m\u001b[0;34m\u001b[0m\u001b[0;34m\u001b[0m\u001b[0m\n\u001b[1;32m    804\u001b[0m \u001b[0;34m\u001b[0m\u001b[0m\n\u001b[0;32m--> 805\u001b[0;31m     \u001b[0mlib\u001b[0m \u001b[0;34m=\u001b[0m \u001b[0mtorch\u001b[0m\u001b[0;34m.\u001b[0m\u001b[0mlibrary\u001b[0m\u001b[0;34m.\u001b[0m\u001b[0mLibrary\u001b[0m\u001b[0;34m(\u001b[0m\u001b[0mnamespace\u001b[0m\u001b[0;34m,\u001b[0m \u001b[0;34m\"FRAGMENT\"\u001b[0m\u001b[0;34m)\u001b[0m  \u001b[0;31m# noqa: TOR901\u001b[0m\u001b[0;34m\u001b[0m\u001b[0;34m\u001b[0m\u001b[0m\n\u001b[0m\u001b[1;32m    806\u001b[0m     \u001b[0mOPDEF_TO_LIB\u001b[0m\u001b[0;34m[\u001b[0m\u001b[0mqualname\u001b[0m\u001b[0;34m]\u001b[0m \u001b[0;34m=\u001b[0m \u001b[0mlib\u001b[0m\u001b[0;34m\u001b[0m\u001b[0;34m\u001b[0m\u001b[0m\n\u001b[1;32m    807\u001b[0m     \u001b[0;32mreturn\u001b[0m \u001b[0mlib\u001b[0m\u001b[0;34m\u001b[0m\u001b[0;34m\u001b[0m\u001b[0m\n",
            "\u001b[0;32m/usr/local/lib/python3.11/dist-packages/torch/library.py\u001b[0m in \u001b[0;36m__init__\u001b[0;34m(self, ns, kind, dispatch_key)\u001b[0m\n\u001b[1;32m     83\u001b[0m             )\n\u001b[1;32m     84\u001b[0m \u001b[0;34m\u001b[0m\u001b[0m\n\u001b[0;32m---> 85\u001b[0;31m         \u001b[0mframe\u001b[0m \u001b[0;34m=\u001b[0m \u001b[0mtraceback\u001b[0m\u001b[0;34m.\u001b[0m\u001b[0mextract_stack\u001b[0m\u001b[0;34m(\u001b[0m\u001b[0mlimit\u001b[0m\u001b[0;34m=\u001b[0m\u001b[0;36m3\u001b[0m\u001b[0;34m)\u001b[0m\u001b[0;34m[\u001b[0m\u001b[0;36m0\u001b[0m\u001b[0;34m]\u001b[0m\u001b[0;34m\u001b[0m\u001b[0;34m\u001b[0m\u001b[0m\n\u001b[0m\u001b[1;32m     86\u001b[0m         \u001b[0mfilename\u001b[0m\u001b[0;34m,\u001b[0m \u001b[0mlineno\u001b[0m \u001b[0;34m=\u001b[0m \u001b[0mframe\u001b[0m\u001b[0;34m.\u001b[0m\u001b[0mfilename\u001b[0m\u001b[0;34m,\u001b[0m \u001b[0mframe\u001b[0m\u001b[0;34m.\u001b[0m\u001b[0mlineno\u001b[0m\u001b[0;34m\u001b[0m\u001b[0;34m\u001b[0m\u001b[0m\n\u001b[1;32m     87\u001b[0m         self.m: Optional[Any] = torch._C._dispatch_library(\n",
            "\u001b[0;32m/usr/lib/python3.11/traceback.py\u001b[0m in \u001b[0;36mextract_stack\u001b[0;34m(f, limit)\u001b[0m\n\u001b[1;32m    226\u001b[0m     \u001b[0;32mif\u001b[0m \u001b[0mf\u001b[0m \u001b[0;32mis\u001b[0m \u001b[0;32mNone\u001b[0m\u001b[0;34m:\u001b[0m\u001b[0;34m\u001b[0m\u001b[0;34m\u001b[0m\u001b[0m\n\u001b[1;32m    227\u001b[0m         \u001b[0mf\u001b[0m \u001b[0;34m=\u001b[0m \u001b[0msys\u001b[0m\u001b[0;34m.\u001b[0m\u001b[0m_getframe\u001b[0m\u001b[0;34m(\u001b[0m\u001b[0;34m)\u001b[0m\u001b[0;34m.\u001b[0m\u001b[0mf_back\u001b[0m\u001b[0;34m\u001b[0m\u001b[0;34m\u001b[0m\u001b[0m\n\u001b[0;32m--> 228\u001b[0;31m     \u001b[0mstack\u001b[0m \u001b[0;34m=\u001b[0m \u001b[0mStackSummary\u001b[0m\u001b[0;34m.\u001b[0m\u001b[0mextract\u001b[0m\u001b[0;34m(\u001b[0m\u001b[0mwalk_stack\u001b[0m\u001b[0;34m(\u001b[0m\u001b[0mf\u001b[0m\u001b[0;34m)\u001b[0m\u001b[0;34m,\u001b[0m \u001b[0mlimit\u001b[0m\u001b[0;34m=\u001b[0m\u001b[0mlimit\u001b[0m\u001b[0;34m)\u001b[0m\u001b[0;34m\u001b[0m\u001b[0;34m\u001b[0m\u001b[0m\n\u001b[0m\u001b[1;32m    229\u001b[0m     \u001b[0mstack\u001b[0m\u001b[0;34m.\u001b[0m\u001b[0mreverse\u001b[0m\u001b[0;34m(\u001b[0m\u001b[0;34m)\u001b[0m\u001b[0;34m\u001b[0m\u001b[0;34m\u001b[0m\u001b[0m\n\u001b[1;32m    230\u001b[0m     \u001b[0;32mreturn\u001b[0m \u001b[0mstack\u001b[0m\u001b[0;34m\u001b[0m\u001b[0;34m\u001b[0m\u001b[0m\n",
            "\u001b[0;32m/usr/lib/python3.11/traceback.py\u001b[0m in \u001b[0;36mextract\u001b[0;34m(klass, frame_gen, limit, lookup_lines, capture_locals)\u001b[0m\n\u001b[1;32m    388\u001b[0m                 \u001b[0;32myield\u001b[0m \u001b[0mf\u001b[0m\u001b[0;34m,\u001b[0m \u001b[0;34m(\u001b[0m\u001b[0mlineno\u001b[0m\u001b[0;34m,\u001b[0m \u001b[0;32mNone\u001b[0m\u001b[0;34m,\u001b[0m \u001b[0;32mNone\u001b[0m\u001b[0;34m,\u001b[0m \u001b[0;32mNone\u001b[0m\u001b[0;34m)\u001b[0m\u001b[0;34m\u001b[0m\u001b[0;34m\u001b[0m\u001b[0m\n\u001b[1;32m    389\u001b[0m \u001b[0;34m\u001b[0m\u001b[0m\n\u001b[0;32m--> 390\u001b[0;31m         return klass._extract_from_extended_frame_gen(\n\u001b[0m\u001b[1;32m    391\u001b[0m             \u001b[0mextended_frame_gen\u001b[0m\u001b[0;34m(\u001b[0m\u001b[0;34m)\u001b[0m\u001b[0;34m,\u001b[0m \u001b[0mlimit\u001b[0m\u001b[0;34m=\u001b[0m\u001b[0mlimit\u001b[0m\u001b[0;34m,\u001b[0m \u001b[0mlookup_lines\u001b[0m\u001b[0;34m=\u001b[0m\u001b[0mlookup_lines\u001b[0m\u001b[0;34m,\u001b[0m\u001b[0;34m\u001b[0m\u001b[0;34m\u001b[0m\u001b[0m\n\u001b[1;32m    392\u001b[0m             capture_locals=capture_locals)\n",
            "\u001b[0;32m/usr/lib/python3.11/traceback.py\u001b[0m in \u001b[0;36m_extract_from_extended_frame_gen\u001b[0;34m(klass, frame_gen, limit, lookup_lines, capture_locals)\u001b[0m\n\u001b[1;32m    423\u001b[0m             \u001b[0;32melse\u001b[0m\u001b[0;34m:\u001b[0m\u001b[0;34m\u001b[0m\u001b[0;34m\u001b[0m\u001b[0m\n\u001b[1;32m    424\u001b[0m                 \u001b[0mf_locals\u001b[0m \u001b[0;34m=\u001b[0m \u001b[0;32mNone\u001b[0m\u001b[0;34m\u001b[0m\u001b[0;34m\u001b[0m\u001b[0m\n\u001b[0;32m--> 425\u001b[0;31m             result.append(FrameSummary(\n\u001b[0m\u001b[1;32m    426\u001b[0m                 \u001b[0mfilename\u001b[0m\u001b[0;34m,\u001b[0m \u001b[0mlineno\u001b[0m\u001b[0;34m,\u001b[0m \u001b[0mname\u001b[0m\u001b[0;34m,\u001b[0m \u001b[0mlookup_line\u001b[0m\u001b[0;34m=\u001b[0m\u001b[0;32mFalse\u001b[0m\u001b[0;34m,\u001b[0m \u001b[0mlocals\u001b[0m\u001b[0;34m=\u001b[0m\u001b[0mf_locals\u001b[0m\u001b[0;34m,\u001b[0m\u001b[0;34m\u001b[0m\u001b[0;34m\u001b[0m\u001b[0m\n\u001b[1;32m    427\u001b[0m                 end_lineno=end_lineno, colno=colno, end_colno=end_colno))\n",
            "\u001b[0;32m/usr/lib/python3.11/traceback.py\u001b[0m in \u001b[0;36m__init__\u001b[0;34m(self, filename, lineno, name, lookup_line, locals, line, end_lineno, colno, end_colno)\u001b[0m\n\u001b[1;32m    259\u001b[0m                  'name', '_line', 'locals')\n\u001b[1;32m    260\u001b[0m \u001b[0;34m\u001b[0m\u001b[0m\n\u001b[0;32m--> 261\u001b[0;31m     def __init__(self, filename, lineno, name, *, lookup_line=True,\n\u001b[0m\u001b[1;32m    262\u001b[0m             \u001b[0mlocals\u001b[0m\u001b[0;34m=\u001b[0m\u001b[0;32mNone\u001b[0m\u001b[0;34m,\u001b[0m \u001b[0mline\u001b[0m\u001b[0;34m=\u001b[0m\u001b[0;32mNone\u001b[0m\u001b[0;34m,\u001b[0m\u001b[0;34m\u001b[0m\u001b[0;34m\u001b[0m\u001b[0m\n\u001b[1;32m    263\u001b[0m             end_lineno=None, colno=None, end_colno=None):\n",
            "\u001b[0;31mKeyboardInterrupt\u001b[0m: "
          ]
        }
      ],
      "source": [
        "import torch\n",
        "import torch.nn as nn\n",
        "import torch.nn.functional as F\n",
        "import torch.optim as optim\n",
        "from torch.distributions import Categorical\n",
        "from collections import deque"
      ]
    },
    {
      "cell_type": "code",
      "execution_count": null,
      "id": "28703f45-f640-4dec-ad19-a9b60e846c0b",
      "metadata": {
        "id": "28703f45-f640-4dec-ad19-a9b60e846c0b"
      },
      "outputs": [],
      "source": [
        "device = torch.device('cuda' if torch.cuda.is_available() else 'cpu')\n",
        "print(device)"
      ]
    },
    {
      "cell_type": "code",
      "execution_count": null,
      "id": "53df542a-36a5-4541-88cd-e5ef1cb2aa03",
      "metadata": {
        "id": "53df542a-36a5-4541-88cd-e5ef1cb2aa03"
      },
      "outputs": [],
      "source": [
        "# Hyperparameter\n",
        "h_size = 512\n",
        "lr = 0.001\n",
        "n_training_episodes = 5000\n",
        "max_steps = 100\n",
        "gamma = 0.99"
      ]
    },
    {
      "cell_type": "code",
      "execution_count": null,
      "id": "5ee3d3c3-f4b1-4646-b60b-f29e676709a1",
      "metadata": {
        "id": "5ee3d3c3-f4b1-4646-b60b-f29e676709a1"
      },
      "outputs": [],
      "source": [
        "# Policy Network\n",
        "class Policy(nn.Module):\n",
        "    def __init__(self , s_size , a_size , h_size ):\n",
        "        super (Policy , self ).__init__ ()\n",
        "        self.fc1 = nn.Linear( s_size , h_size )\n",
        "        self.fc2 = nn.Linear( h_size , h_size * 2)\n",
        "        self.fc3 = nn.Linear( h_size * 2, a_size )\n",
        "    def forward(self , x):\n",
        "        x = F.relu(self.fc1(x), inplace=True)\n",
        "        x = F.relu(self.fc2(x), inplace=True)\n",
        "        x = self.fc3(x)\n",
        "        return F.softmax(x, dim =1)\n",
        "    def act(self, state ):\n",
        "        state = state.float().unsqueeze(0)  #.to(device)\n",
        "        probs = self.forward(state).to(device) # .cpu()\n",
        "        m = Categorical(probs)\n",
        "        # Random action\n",
        "        action = m.sample()\n",
        "        return action.item() , m.log_prob(action)"
      ]
    },
    {
      "cell_type": "code",
      "execution_count": null,
      "id": "ba9baf86-0a18-454b-b356-da8589e498c2",
      "metadata": {
        "id": "ba9baf86-0a18-454b-b356-da8589e498c2"
      },
      "outputs": [],
      "source": [
        "policy0 = Policy (\n",
        "        s_size = 508 ,\n",
        "        a_size = 5 ,\n",
        "        h_size = h_size ,\n",
        "        ).to(device)\n",
        "optimizer0 = optim.Adam( policy0.parameters() , lr=lr)\n",
        "\n",
        "policy1 = Policy (\n",
        "        s_size = 508 ,\n",
        "        a_size = 5 ,\n",
        "        h_size = h_size ,\n",
        "        ).to(device)\n",
        "optimizer1 = optim.Adam( policy1.parameters() , lr=lr)\n",
        "\n",
        "policy2 = Policy (\n",
        "        s_size = 508 ,\n",
        "        a_size = 5 ,\n",
        "        h_size = h_size ,\n",
        "        ).to(device)\n",
        "optimizer2 = optim.Adam( policy2.parameters() , lr=lr)\n",
        "\n",
        "optimizer = optim.Adam(list(policy0.parameters()) + list(policy1.parameters()) + list(policy2.parameters()), lr = lr )"
      ]
    },
    {
      "cell_type": "code",
      "execution_count": null,
      "id": "512fa2a0-7d37-4997-b8b7-ba14c093765f",
      "metadata": {
        "id": "512fa2a0-7d37-4997-b8b7-ba14c093765f"
      },
      "outputs": [],
      "source": [
        "# Training Function\n",
        "def reinforce(\n",
        "        policy0 ,\n",
        "        optimizer ,\n",
        "        policy1 ,\n",
        "        # optimizer1 ,\n",
        "        policy2 ,\n",
        "        # optimizer2 ,\n",
        "        n_training_episodes ,\n",
        "        max_steps ,\n",
        "        gamma\n",
        "        ):\n",
        "    # scores_deque = deque(maxlen =100)\n",
        "    scores = []\n",
        "\n",
        "    # Each Episode\n",
        "    for i_episode in range(1, n_training_episodes + 1):\n",
        "        print('Episode ',i_episode, '==================')\n",
        "        saved_log_probs0 = []\n",
        "        rewards0 = []\n",
        "        saved_log_probs1 = []\n",
        "        rewards1 = []\n",
        "        saved_log_probs2 = []\n",
        "        rewards2 = []\n",
        "        O_UAV0, O_UAV1, O_UAV2 = env.reset()\n",
        "\n",
        "        S, N_UAV0, N_UAV1, N_UAV2 = 0,0,0,0\n",
        "\n",
        "        S_t, N_UAV0_t, N_UAV1_t, N_UAV2_t = 0,0,0,0\n",
        "        g_t = 0\n",
        "        l_t_0 = 0\n",
        "        l_t_1 = 0\n",
        "        l_t_2 = 0\n",
        "        w = 0.1\n",
        "\n",
        "        # t=1, 2, … , T (compute log(policy(a_t|s_t)))\n",
        "        for t in range(max_steps):\n",
        "            ## Take actions by policies\n",
        "            action0 , log_prob_0 = policy0.act(torch.from_numpy(O_UAV0).to(device))\n",
        "            saved_log_probs0.append(log_prob_0)\n",
        "            action1 , log_prob_1 = policy1.act(torch.from_numpy(O_UAV1).to(device))\n",
        "            saved_log_probs1.append(log_prob_1)\n",
        "            action2 , log_prob_2 = policy2.act(torch.from_numpy(O_UAV2).to(device))\n",
        "            saved_log_probs2.append(log_prob_2)\n",
        "\n",
        "            O_UAV0, O_UAV1, O_UAV2, S, N_UAV0, N_UAV1, N_UAV2 = env.step([action0, action1, action2])\n",
        "\n",
        "\n",
        "            if S > S_t:\n",
        "                g_t = 1\n",
        "            elif S < S_t:\n",
        "                g_t = -1\n",
        "            else:\n",
        "                g_t = 0\n",
        "\n",
        "            if N_UAV0 > N_UAV0_t:\n",
        "                l_t_0 = 1\n",
        "            elif N_UAV0 < N_UAV0_t:\n",
        "                l_t_0 = -1\n",
        "            else:\n",
        "                l_t_0 = 0\n",
        "\n",
        "            if N_UAV1 > N_UAV1_t:\n",
        "                l_t_1 = 1\n",
        "            elif N_UAV1 < N_UAV1_t:\n",
        "                l_t_1 = -1\n",
        "            else:\n",
        "                l_t_1 = 0\n",
        "\n",
        "            if N_UAV2 > N_UAV2_t:\n",
        "                l_t_2 = 1\n",
        "            elif N_UAV2 < N_UAV2_t:\n",
        "                l_t_2 = -1\n",
        "            else:\n",
        "                l_t_2 = 0\n",
        "\n",
        "            S_t, N_UAV0_t, N_UAV1_t, N_UAV2_t = S, N_UAV0, N_UAV1, N_UAV2\n",
        "\n",
        "            reward0 = w*l_t_0 + (1-w)*g_t\n",
        "            rewards0.append(reward0)\n",
        "            reward1 = w*l_t_1 + (1-w)*g_t\n",
        "            rewards1.append(reward1)\n",
        "            reward2 = w*l_t_2 + (1-w)*g_t\n",
        "            rewards2.append(reward2)\n",
        "\n",
        "            # if done :\n",
        "            #     break\n",
        "\n",
        "        # scores_deque.append(sum( rewards ))\n",
        "        scores.append(sum(rewards0)+sum(rewards1)+sum(rewards2))\n",
        "\n",
        "        returns0 = deque(maxlen = max_steps)\n",
        "        returns1 = deque(maxlen = max_steps)\n",
        "        returns2 = deque(maxlen = max_steps)\n",
        "\n",
        "        n_steps = len(rewards0)\n",
        "\n",
        "        # List of discounted Returns (compute gamma^t*G_t)\n",
        "        for t in range(n_steps)[:: -1]:\n",
        "            disc_return_t = returns0[0] if len(returns0) > 0 else 0\n",
        "            returns0.appendleft(gamma*disc_return_t + rewards0[t])\n",
        "\n",
        "        for t in range(n_steps)[:: -1]:\n",
        "            disc_return_t = returns1[0] if len(returns1) > 0 else 0\n",
        "            returns1.appendleft(gamma*disc_return_t + rewards1[t])\n",
        "\n",
        "        for t in range(n_steps)[:: -1]:\n",
        "            disc_return_t = returns2[0] if len(returns2) > 0 else 0\n",
        "            returns2.appendleft(gamma*disc_return_t + rewards2[t])\n",
        "\n",
        "        # Total loss (disc_return = gamma^t*G_t; log_prob = log(policy(a_t|s_t)))\n",
        "        policy_loss0 = []\n",
        "        for log_prob , disc_return in zip( saved_log_probs0 , returns0 ):\n",
        "            policy_loss0.append(-log_prob * disc_return )\n",
        "        policy_loss0 = torch.cat( policy_loss0 ).sum()\n",
        "\n",
        "        print(policy_loss0)\n",
        "\n",
        "\n",
        "        policy_loss1 = []\n",
        "        for log_prob , disc_return in zip( saved_log_probs1 , returns1 ):\n",
        "            policy_loss1.append(-log_prob * disc_return )\n",
        "        policy_loss1 = torch.cat( policy_loss1 ).sum()\n",
        "\n",
        "        policy_loss2 = []\n",
        "        for log_prob , disc_return in zip( saved_log_probs2 , returns2 ):\n",
        "            policy_loss2.append(-log_prob * disc_return )\n",
        "        policy_loss2 = torch.cat( policy_loss2 ).sum()\n",
        "\n",
        "        total_loss = policy_loss0 + policy_loss1 + policy_loss2\n",
        "        # optimizer0.zero_grad()\n",
        "        # optimizer1.zero_grad()\n",
        "        # optimizer2.zero_grad()\n",
        "\n",
        "        optimizer.zero_grad()\n",
        "        policy_loss0.backward()\n",
        "        policy_loss1.backward()\n",
        "        policy_loss2.backward()\n",
        "        optimizer.step()\n",
        "        # optimizer0.step()\n",
        "        # optimizer1.step()\n",
        "        # optimizer2.step()\n",
        "\n",
        "        print(\" Episode {}, The number of satisfied users : {} \".format(i_episode , S_t))\n",
        "        env.plot()\n",
        "\n",
        "    return scores"
      ]
    },
    {
      "cell_type": "markdown",
      "id": "68683957-9b78-4fdd-b5a5-68fbc5b65453",
      "metadata": {
        "id": "68683957-9b78-4fdd-b5a5-68fbc5b65453"
      },
      "source": [
        "Triangle -> Unsatisfied user <br>\n",
        "Circle -> Satisfied user"
      ]
    },
    {
      "cell_type": "code",
      "execution_count": null,
      "id": "084959ee-e7b9-4e81-97d8-a1a7e8d9bd7b",
      "metadata": {
        "id": "084959ee-e7b9-4e81-97d8-a1a7e8d9bd7b"
      },
      "outputs": [],
      "source": [
        "scores = reinforce (\n",
        "        policy0 ,\n",
        "        optimizer ,\n",
        "        policy1 ,\n",
        "        # optimizer1 ,\n",
        "        policy2 ,\n",
        "        # optimizer2 ,\n",
        "        n_training_episodes ,\n",
        "        max_steps ,\n",
        "        gamma)\n",
        "        # print_every = 100)"
      ]
    },
    {
      "cell_type": "code",
      "execution_count": null,
      "id": "cea29309-9c91-4ad4-af33-aef3d4e4c7c9",
      "metadata": {
        "id": "cea29309-9c91-4ad4-af33-aef3d4e4c7c9"
      },
      "outputs": [],
      "source": []
    },
    {
      "cell_type": "code",
      "execution_count": null,
      "id": "55e274b4-8cdf-4fdd-bb9d-34f1a3b0dc77",
      "metadata": {
        "id": "55e274b4-8cdf-4fdd-bb9d-34f1a3b0dc77"
      },
      "outputs": [],
      "source": []
    }
  ],
  "metadata": {
    "kernelspec": {
      "display_name": "Python 3",
      "name": "python3"
    },
    "language_info": {
      "codemirror_mode": {
        "name": "ipython",
        "version": 3
      },
      "file_extension": ".py",
      "mimetype": "text/x-python",
      "name": "python",
      "nbconvert_exporter": "python",
      "pygments_lexer": "ipython3",
      "version": "3.11.9"
    },
    "colab": {
      "provenance": [],
      "gpuType": "T4"
    },
    "accelerator": "GPU"
  },
  "nbformat": 4,
  "nbformat_minor": 5
}